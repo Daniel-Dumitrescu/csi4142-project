{
 "cells": [
  {
   "cell_type": "code",
   "execution_count": 6,
   "metadata": {},
   "outputs": [],
   "source": [
    "from sklearn.svm import OneClassSVM\n",
    "import pandas as pd\n",
    "import numpy as np\n"
   ]
  },
  {
   "cell_type": "code",
   "execution_count": 7,
   "metadata": {},
   "outputs": [
    {
     "name": "stdout",
     "output_type": "stream",
     "text": [
      "Outliers detected:\n",
      "      Date_ID  Total_Value_Binned_Encoded  Month  NumberOfDaysInMonth  \\\n",
      "0           0                           1      1                   31   \n",
      "1           1                           1      2                   28   \n",
      "2           2                           1      3                   31   \n",
      "6           6                           1      7                   31   \n",
      "8           8                           1      9                   30   \n",
      "...       ...                         ...    ...                  ...   \n",
      "7964      266                           1      3                   31   \n",
      "7965      267                           1      4                   30   \n",
      "7966      269                           1      6                   30   \n",
      "7967      270                           1      7                   31   \n",
      "7968      271                           1      8                   31   \n",
      "\n",
      "      Quarter  Year  LeapYear  Minimum Temperature  Maximum Temperature  \\\n",
      "0           1  2001         0                    5                   29   \n",
      "1           1  2001         0                    5                   29   \n",
      "2           1  2001         0                    5                   29   \n",
      "6           3  2001         0                    5                   29   \n",
      "8           3  2001         0                    5                   29   \n",
      "...       ...   ...       ...                  ...                  ...   \n",
      "7964        1  2023         0                    5                   34   \n",
      "7965        2  2023         0                    5                   34   \n",
      "7966        2  2023         0                    5                   34   \n",
      "7967        3  2023         0                    5                   34   \n",
      "7968        3  2023         0                    5                   34   \n",
      "\n",
      "      Barley  ...  Quebec  Saskatchewan  Territories  Yukon  Atlantic_Region  \\\n",
      "0      False  ...    True         False        False  False            False   \n",
      "1      False  ...    True         False        False  False            False   \n",
      "2      False  ...    True         False        False  False            False   \n",
      "6      False  ...    True         False        False  False            False   \n",
      "8      False  ...    True         False        False  False            False   \n",
      "...      ...  ...     ...           ...          ...    ...              ...   \n",
      "7964   False  ...   False         False        False  False            False   \n",
      "7965   False  ...   False         False        False  False            False   \n",
      "7966   False  ...   False         False        False  False            False   \n",
      "7967   False  ...   False         False        False  False            False   \n",
      "7968   False  ...   False         False        False  False            False   \n",
      "\n",
      "      British Columbia_Region  Canada_Region  Prairies_Region  \\\n",
      "0                       False           True            False   \n",
      "1                       False           True            False   \n",
      "2                       False           True            False   \n",
      "6                       False           True            False   \n",
      "8                       False           True            False   \n",
      "...                       ...            ...              ...   \n",
      "7964                     True          False            False   \n",
      "7965                     True          False            False   \n",
      "7966                     True          False            False   \n",
      "7967                     True          False            False   \n",
      "7968                     True          False            False   \n",
      "\n",
      "      Territories_Region  Outlier  \n",
      "0                  False       -1  \n",
      "1                  False       -1  \n",
      "2                  False       -1  \n",
      "6                  False       -1  \n",
      "8                  False       -1  \n",
      "...                  ...      ...  \n",
      "7964               False       -1  \n",
      "7965               False       -1  \n",
      "7966               False       -1  \n",
      "7967               False       -1  \n",
      "7968               False       -1  \n",
      "\n",
      "[3527 rows x 77 columns]\n"
     ]
    }
   ],
   "source": [
    "df = pd.read_csv(\"../datasets/merged_dataset.csv\")\n",
    "df.drop('Unnamed: 0',axis=1,inplace=True)\n",
    "oc_svm = OneClassSVM(gamma='auto')\n",
    "oc_svm.fit(df)\n",
    "outlier_predictions = oc_svm.predict(df)\n",
    "df['Outlier'] = outlier_predictions\n",
    "\n",
    "# Filtering the outliers\n",
    "outliers = df[df['Outlier'] == -1]\n",
    "print(\"Outliers detected:\")\n",
    "print(outliers)"
   ]
  }
 ],
 "metadata": {
  "kernelspec": {
   "display_name": "Python 3",
   "language": "python",
   "name": "python3"
  },
  "language_info": {
   "codemirror_mode": {
    "name": "ipython",
    "version": 3
   },
   "file_extension": ".py",
   "mimetype": "text/x-python",
   "name": "python",
   "nbconvert_exporter": "python",
   "pygments_lexer": "ipython3",
   "version": "3.11.3"
  }
 },
 "nbformat": 4,
 "nbformat_minor": 2
}
