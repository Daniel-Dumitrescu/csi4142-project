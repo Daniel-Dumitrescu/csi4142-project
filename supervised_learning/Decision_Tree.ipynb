{
 "cells": [
  {
   "cell_type": "code",
   "execution_count": null,
   "metadata": {},
   "outputs": [],
   "source": [
    "criteria = [\"gini\",\"entropy\"]\n",
    "splitters = [\"best\",\"random\"]\n",
    "#print(\"SPLIT\")\n",
    "for i in range(5,50,5):\n",
    "    for criterion in criteria:\n",
    "        for splitter in splitters:\n",
    "            classifier = DecisionTreeClassifier(criterion=criterion,splitter=splitter,max_depth=i)\n",
    "            classifier.fit(X_train, y_train)\n",
    "\n",
    "            #print(\"TRAINED\")\n",
    "            y_pred = classifier.predict(X_test)\n",
    "            #print(\"TESTED\")\n",
    "\n",
    "            print(\"Max Depth\",str(i),criterion,splitter)\n",
    "            print(confusion_matrix(y_test, y_pred))\n",
    "            print(classification_report(y_test, y_pred))\n",
    "\n",
    "for i in range(5,50,5):\n",
    "    for criterion in criteria:\n",
    "        for splitter in splitters:\n",
    "            classifier = DecisionTreeClassifier(criterion=criterion,splitter=splitter,min_samples_split=i)\n",
    "            classifier.fit(X_train, y_train)\n",
    "\n",
    "            #print(\"TRAINED\")\n",
    "            y_pred = classifier.predict(X_test)\n",
    "            #print(\"TESTED\")\n",
    "\n",
    "            from sklearn.metrics import classification_report, confusion_matrix\n",
    "            print(\"Min Samples\",str(i),criterion,splitter)\n",
    "            print(confusion_matrix(y_test, y_pred))\n",
    "            print(classification_report(y_test, y_pred))"
   ]
  }
 ],
 "metadata": {
  "language_info": {
   "name": "python"
  }
 },
 "nbformat": 4,
 "nbformat_minor": 2
}
